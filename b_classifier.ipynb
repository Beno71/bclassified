{
 "cells": [
  {
   "cell_type": "code",
   "execution_count": 7,
   "metadata": {},
   "outputs": [],
   "source": [
    "import numpy as np\n",
    "from sklearn.decomposition import PCA\n",
    "import sklearn.cluster\n",
    "import pandas as pd"
   ]
  },
  {
   "cell_type": "code",
   "execution_count": 13,
   "metadata": {},
   "outputs": [],
   "source": [
    "#import training data\n",
    "url = \"https://archive.ics.uci.edu/ml/machine-learning-databases/iris/iris.data\"\n",
    "\n",
    "# load dataset into Pandas DataFrame\n",
    "df = pd.read_csv(\"data.csv\", names=['sepal length','sepal width','petal length','petal width','target'], sep=\",\")\n",
    "features = ['sepal length', 'sepal width', 'petal length', 'petal width']"
   ]
  },
  {
   "cell_type": "code",
   "execution_count": 39,
   "metadata": {},
   "outputs": [],
   "source": [
    "def perform_pca_k(data, k):\n",
    "    pca = PCA(n_components=k)\n",
    "    principalComponents = pca.fit_transform(data)\n",
    "    pca_df = pd.DataFrame(data = principalComponents, \n",
    "                               columns = [\"pc\"+str(i) for i in range(1,k+1)])\n",
    "    return pca, pca_df\n",
    "\n",
    "def perform_pca_ratio(data, ratio):\n",
    "    pca = PCA(ratio)\n",
    "    principalComponents = pca.fit_transform(data)\n",
    "    pca_df = pd.DataFrame(data = principalComponents, \n",
    "                               columns = [\"pc\"+str(i) for i in range(1,pca.n_components_+1)])\n",
    "    return pca, pca_df"
   ]
  },
  {
   "cell_type": "code",
   "execution_count": 40,
   "metadata": {},
   "outputs": [],
   "source": [
    "pca, pca_df=perform_pca_k(df[features], 4)\n",
    "#print(\"explained_variance: \", pca.explained_variance_ratio_)\n",
    "#print(\"resulting df: \")\n",
    "#print(pca_df)"
   ]
  },
  {
   "cell_type": "code",
   "execution_count": 43,
   "metadata": {},
   "outputs": [],
   "source": [
    "pca, pca_df = perform_pca_ratio(df[features], 0.95)\n",
    "#print(\"explained_variance: \", pca.explained_variance_ratio_)\n",
    "#print(\"resulting df: \")\n",
    "#print(pca_df)"
   ]
  },
  {
   "cell_type": "code",
   "execution_count": 67,
   "metadata": {},
   "outputs": [],
   "source": [
    "first_entry = np.array(pca_df.iloc[0,:])"
   ]
  },
  {
   "cell_type": "code",
   "execution_count": 70,
   "metadata": {},
   "outputs": [
    {
     "data": {
      "text/plain": [
       "array([5.08718247, 3.51315614, 1.4020428 , 0.21105556])"
      ]
     },
     "execution_count": 70,
     "metadata": {},
     "output_type": "execute_result"
    }
   ],
   "source": [
    "approximation = pca.inverse_transform(first_entry)\n",
    "approximation"
   ]
  },
  {
   "cell_type": "code",
   "execution_count": null,
   "metadata": {},
   "outputs": [],
   "source": [
    "def mean_shift_clustering():\n",
    "    "
   ]
  }
 ],
 "metadata": {
  "kernelspec": {
   "display_name": "Python 3",
   "language": "python",
   "name": "python3"
  },
  "language_info": {
   "codemirror_mode": {
    "name": "ipython",
    "version": 3
   },
   "file_extension": ".py",
   "mimetype": "text/x-python",
   "name": "python",
   "nbconvert_exporter": "python",
   "pygments_lexer": "ipython3",
   "version": "3.7.1"
  }
 },
 "nbformat": 4,
 "nbformat_minor": 2
}
